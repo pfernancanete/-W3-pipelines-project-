{
 "cells": [
  {
   "cell_type": "markdown",
   "id": "cf79f137",
   "metadata": {},
   "source": [
    "# Visualización"
   ]
  },
  {
   "cell_type": "code",
   "execution_count": 3,
   "id": "a6ba8e99",
   "metadata": {},
   "outputs": [],
   "source": [
    "import numpy as np\n",
    "import pandas as pd\n",
    "import matplotlib.pyplot as plt\n",
    "import matplotlib.image as mtimg\n",
    "import seaborn as sns\n",
    "import json\n",
    "import statistics "
   ]
  },
  {
   "cell_type": "code",
   "execution_count": 4,
   "id": "7aeee687",
   "metadata": {},
   "outputs": [
    {
     "data": {
      "text/html": [
       "<div>\n",
       "<style scoped>\n",
       "    .dataframe tbody tr th:only-of-type {\n",
       "        vertical-align: middle;\n",
       "    }\n",
       "\n",
       "    .dataframe tbody tr th {\n",
       "        vertical-align: top;\n",
       "    }\n",
       "\n",
       "    .dataframe thead th {\n",
       "        text-align: right;\n",
       "    }\n",
       "</style>\n",
       "<table border=\"1\" class=\"dataframe\">\n",
       "  <thead>\n",
       "    <tr style=\"text-align: right;\">\n",
       "      <th></th>\n",
       "      <th>Unnamed: 0</th>\n",
       "      <th>id</th>\n",
       "      <th>host_id</th>\n",
       "      <th>host_name</th>\n",
       "      <th>room_type</th>\n",
       "      <th>disctricts</th>\n",
       "      <th>neighbourhoods</th>\n",
       "      <th>price</th>\n",
       "      <th>number_of_reviews</th>\n",
       "      <th>latitude</th>\n",
       "      <th>longitude</th>\n",
       "    </tr>\n",
       "  </thead>\n",
       "  <tbody>\n",
       "    <tr>\n",
       "      <th>0</th>\n",
       "      <td>0</td>\n",
       "      <td>6369</td>\n",
       "      <td>13660</td>\n",
       "      <td>Simon</td>\n",
       "      <td>Private room</td>\n",
       "      <td>Chamartín</td>\n",
       "      <td>Hispanoamérica</td>\n",
       "      <td>70</td>\n",
       "      <td>65</td>\n",
       "      <td>40.45628</td>\n",
       "      <td>-3.67763</td>\n",
       "    </tr>\n",
       "    <tr>\n",
       "      <th>1</th>\n",
       "      <td>1</td>\n",
       "      <td>21853</td>\n",
       "      <td>83531</td>\n",
       "      <td>Abdel</td>\n",
       "      <td>Private room</td>\n",
       "      <td>Latina</td>\n",
       "      <td>Cármenes</td>\n",
       "      <td>17</td>\n",
       "      <td>33</td>\n",
       "      <td>40.40341</td>\n",
       "      <td>-3.74084</td>\n",
       "    </tr>\n",
       "    <tr>\n",
       "      <th>2</th>\n",
       "      <td>2</td>\n",
       "      <td>24805</td>\n",
       "      <td>101471</td>\n",
       "      <td>Iraido</td>\n",
       "      <td>Entire home/apt</td>\n",
       "      <td>Centro</td>\n",
       "      <td>Universidad</td>\n",
       "      <td>80</td>\n",
       "      <td>2</td>\n",
       "      <td>40.42202</td>\n",
       "      <td>-3.70395</td>\n",
       "    </tr>\n",
       "    <tr>\n",
       "      <th>3</th>\n",
       "      <td>3</td>\n",
       "      <td>24836</td>\n",
       "      <td>101653</td>\n",
       "      <td>Tenty</td>\n",
       "      <td>Entire home/apt</td>\n",
       "      <td>Centro</td>\n",
       "      <td>Justicia</td>\n",
       "      <td>115</td>\n",
       "      <td>64</td>\n",
       "      <td>40.41995</td>\n",
       "      <td>-3.69764</td>\n",
       "    </tr>\n",
       "    <tr>\n",
       "      <th>4</th>\n",
       "      <td>4</td>\n",
       "      <td>26825</td>\n",
       "      <td>114340</td>\n",
       "      <td>Agustina</td>\n",
       "      <td>Private room</td>\n",
       "      <td>Arganzuela</td>\n",
       "      <td>Legazpi</td>\n",
       "      <td>25</td>\n",
       "      <td>136</td>\n",
       "      <td>40.38985</td>\n",
       "      <td>-3.69011</td>\n",
       "    </tr>\n",
       "    <tr>\n",
       "      <th>5</th>\n",
       "      <td>5</td>\n",
       "      <td>30320</td>\n",
       "      <td>130907</td>\n",
       "      <td>Dana</td>\n",
       "      <td>Entire home/apt</td>\n",
       "      <td>Centro</td>\n",
       "      <td>Sol</td>\n",
       "      <td>65</td>\n",
       "      <td>168</td>\n",
       "      <td>40.41552</td>\n",
       "      <td>-3.70346</td>\n",
       "    </tr>\n",
       "    <tr>\n",
       "      <th>6</th>\n",
       "      <td>6</td>\n",
       "      <td>30959</td>\n",
       "      <td>132883</td>\n",
       "      <td>Angela</td>\n",
       "      <td>Entire home/apt</td>\n",
       "      <td>Centro</td>\n",
       "      <td>Embajadores</td>\n",
       "      <td>54</td>\n",
       "      <td>8</td>\n",
       "      <td>40.41111</td>\n",
       "      <td>-3.70269</td>\n",
       "    </tr>\n",
       "    <tr>\n",
       "      <th>7</th>\n",
       "      <td>7</td>\n",
       "      <td>40916</td>\n",
       "      <td>130907</td>\n",
       "      <td>Dana</td>\n",
       "      <td>Entire home/apt</td>\n",
       "      <td>Centro</td>\n",
       "      <td>Universidad</td>\n",
       "      <td>90</td>\n",
       "      <td>38</td>\n",
       "      <td>40.42096</td>\n",
       "      <td>-3.70428</td>\n",
       "    </tr>\n",
       "    <tr>\n",
       "      <th>8</th>\n",
       "      <td>8</td>\n",
       "      <td>59923</td>\n",
       "      <td>288380</td>\n",
       "      <td>Patricia</td>\n",
       "      <td>Private room</td>\n",
       "      <td>Centro</td>\n",
       "      <td>Palacio</td>\n",
       "      <td>40</td>\n",
       "      <td>14</td>\n",
       "      <td>40.41971</td>\n",
       "      <td>-3.71256</td>\n",
       "    </tr>\n",
       "    <tr>\n",
       "      <th>9</th>\n",
       "      <td>9</td>\n",
       "      <td>62423</td>\n",
       "      <td>303845</td>\n",
       "      <td>Arturo</td>\n",
       "      <td>Private room</td>\n",
       "      <td>Centro</td>\n",
       "      <td>Justicia</td>\n",
       "      <td>45</td>\n",
       "      <td>57</td>\n",
       "      <td>40.42080</td>\n",
       "      <td>-3.69878</td>\n",
       "    </tr>\n",
       "  </tbody>\n",
       "</table>\n",
       "</div>"
      ],
      "text/plain": [
       "   Unnamed: 0     id  host_id host_name        room_type  disctricts  \\\n",
       "0           0   6369    13660     Simon     Private room   Chamartín   \n",
       "1           1  21853    83531     Abdel     Private room      Latina   \n",
       "2           2  24805   101471    Iraido  Entire home/apt      Centro   \n",
       "3           3  24836   101653     Tenty  Entire home/apt      Centro   \n",
       "4           4  26825   114340  Agustina     Private room  Arganzuela   \n",
       "5           5  30320   130907      Dana  Entire home/apt      Centro   \n",
       "6           6  30959   132883    Angela  Entire home/apt      Centro   \n",
       "7           7  40916   130907      Dana  Entire home/apt      Centro   \n",
       "8           8  59923   288380  Patricia     Private room      Centro   \n",
       "9           9  62423   303845    Arturo     Private room      Centro   \n",
       "\n",
       "   neighbourhoods  price  number_of_reviews  latitude  longitude  \n",
       "0  Hispanoamérica     70                 65  40.45628   -3.67763  \n",
       "1        Cármenes     17                 33  40.40341   -3.74084  \n",
       "2     Universidad     80                  2  40.42202   -3.70395  \n",
       "3        Justicia    115                 64  40.41995   -3.69764  \n",
       "4         Legazpi     25                136  40.38985   -3.69011  \n",
       "5             Sol     65                168  40.41552   -3.70346  \n",
       "6     Embajadores     54                  8  40.41111   -3.70269  \n",
       "7     Universidad     90                 38  40.42096   -3.70428  \n",
       "8         Palacio     40                 14  40.41971   -3.71256  \n",
       "9        Justicia     45                 57  40.42080   -3.69878  "
      ]
     },
     "execution_count": 4,
     "metadata": {},
     "output_type": "execute_result"
    }
   ],
   "source": [
    "stay = pd.read_csv('./data/madrid_stay.csv', encoding = 'utf-8-sig')\n",
    "stay.head(10)"
   ]
  },
  {
   "cell_type": "code",
   "execution_count": 5,
   "id": "5544caa8",
   "metadata": {},
   "outputs": [
    {
     "data": {
      "text/plain": [
       "Index(['Unnamed: 0', 'id', 'host_id', 'host_name', 'room_type', 'disctricts',\n",
       "       'neighbourhoods', 'price', 'number_of_reviews', 'latitude',\n",
       "       'longitude'],\n",
       "      dtype='object')"
      ]
     },
     "execution_count": 5,
     "metadata": {},
     "output_type": "execute_result"
    }
   ],
   "source": [
    "stay.columns"
   ]
  },
  {
   "cell_type": "code",
   "execution_count": 6,
   "id": "05396499",
   "metadata": {},
   "outputs": [
    {
     "data": {
      "text/html": [
       "<div>\n",
       "<style scoped>\n",
       "    .dataframe tbody tr th:only-of-type {\n",
       "        vertical-align: middle;\n",
       "    }\n",
       "\n",
       "    .dataframe tbody tr th {\n",
       "        vertical-align: top;\n",
       "    }\n",
       "\n",
       "    .dataframe thead th {\n",
       "        text-align: right;\n",
       "    }\n",
       "</style>\n",
       "<table border=\"1\" class=\"dataframe\">\n",
       "  <thead>\n",
       "    <tr style=\"text-align: right;\">\n",
       "      <th></th>\n",
       "      <th>id</th>\n",
       "      <th>host_id</th>\n",
       "      <th>host_name</th>\n",
       "      <th>room_type</th>\n",
       "      <th>disctricts</th>\n",
       "      <th>neighbourhoods</th>\n",
       "      <th>price</th>\n",
       "      <th>number_of_reviews</th>\n",
       "      <th>latitude</th>\n",
       "      <th>longitude</th>\n",
       "    </tr>\n",
       "  </thead>\n",
       "  <tbody>\n",
       "    <tr>\n",
       "      <th>0</th>\n",
       "      <td>6369</td>\n",
       "      <td>13660</td>\n",
       "      <td>Simon</td>\n",
       "      <td>Private room</td>\n",
       "      <td>Chamartín</td>\n",
       "      <td>Hispanoamérica</td>\n",
       "      <td>70</td>\n",
       "      <td>65</td>\n",
       "      <td>40.45628</td>\n",
       "      <td>-3.67763</td>\n",
       "    </tr>\n",
       "    <tr>\n",
       "      <th>1</th>\n",
       "      <td>21853</td>\n",
       "      <td>83531</td>\n",
       "      <td>Abdel</td>\n",
       "      <td>Private room</td>\n",
       "      <td>Latina</td>\n",
       "      <td>Cármenes</td>\n",
       "      <td>17</td>\n",
       "      <td>33</td>\n",
       "      <td>40.40341</td>\n",
       "      <td>-3.74084</td>\n",
       "    </tr>\n",
       "    <tr>\n",
       "      <th>2</th>\n",
       "      <td>24805</td>\n",
       "      <td>101471</td>\n",
       "      <td>Iraido</td>\n",
       "      <td>Entire home/apt</td>\n",
       "      <td>Centro</td>\n",
       "      <td>Universidad</td>\n",
       "      <td>80</td>\n",
       "      <td>2</td>\n",
       "      <td>40.42202</td>\n",
       "      <td>-3.70395</td>\n",
       "    </tr>\n",
       "    <tr>\n",
       "      <th>3</th>\n",
       "      <td>24836</td>\n",
       "      <td>101653</td>\n",
       "      <td>Tenty</td>\n",
       "      <td>Entire home/apt</td>\n",
       "      <td>Centro</td>\n",
       "      <td>Justicia</td>\n",
       "      <td>115</td>\n",
       "      <td>64</td>\n",
       "      <td>40.41995</td>\n",
       "      <td>-3.69764</td>\n",
       "    </tr>\n",
       "    <tr>\n",
       "      <th>4</th>\n",
       "      <td>26825</td>\n",
       "      <td>114340</td>\n",
       "      <td>Agustina</td>\n",
       "      <td>Private room</td>\n",
       "      <td>Arganzuela</td>\n",
       "      <td>Legazpi</td>\n",
       "      <td>25</td>\n",
       "      <td>136</td>\n",
       "      <td>40.38985</td>\n",
       "      <td>-3.69011</td>\n",
       "    </tr>\n",
       "  </tbody>\n",
       "</table>\n",
       "</div>"
      ],
      "text/plain": [
       "      id  host_id host_name        room_type  disctricts  neighbourhoods  \\\n",
       "0   6369    13660     Simon     Private room   Chamartín  Hispanoamérica   \n",
       "1  21853    83531     Abdel     Private room      Latina        Cármenes   \n",
       "2  24805   101471    Iraido  Entire home/apt      Centro     Universidad   \n",
       "3  24836   101653     Tenty  Entire home/apt      Centro        Justicia   \n",
       "4  26825   114340  Agustina     Private room  Arganzuela         Legazpi   \n",
       "\n",
       "   price  number_of_reviews  latitude  longitude  \n",
       "0     70                 65  40.45628   -3.67763  \n",
       "1     17                 33  40.40341   -3.74084  \n",
       "2     80                  2  40.42202   -3.70395  \n",
       "3    115                 64  40.41995   -3.69764  \n",
       "4     25                136  40.38985   -3.69011  "
      ]
     },
     "execution_count": 6,
     "metadata": {},
     "output_type": "execute_result"
    }
   ],
   "source": [
    "stay=stay.drop(columns=['Unnamed: 0'])\n",
    "stay.head()"
   ]
  },
  {
   "cell_type": "code",
   "execution_count": 7,
   "id": "56852378",
   "metadata": {},
   "outputs": [
    {
     "data": {
      "text/plain": [
       "id                     int64\n",
       "host_id                int64\n",
       "host_name             object\n",
       "room_type             object\n",
       "disctricts            object\n",
       "neighbourhoods        object\n",
       "price                  int64\n",
       "number_of_reviews      int64\n",
       "latitude             float64\n",
       "longitude            float64\n",
       "dtype: object"
      ]
     },
     "execution_count": 7,
     "metadata": {},
     "output_type": "execute_result"
    }
   ],
   "source": [
    "stay.dtypes"
   ]
  },
  {
   "cell_type": "code",
   "execution_count": 8,
   "id": "5025c587",
   "metadata": {},
   "outputs": [
    {
     "data": {
      "text/plain": [
       "array([  70,   17,   80,  115,   25,   65,   54,   90,   40,   45,   75,\n",
       "        110,   85,   63,  102,   60,  100,   50,   32,   20,  194,   95,\n",
       "         57,   35,   29,   67,  200,   26,   21,   69,  150,   19,   30,\n",
       "         89,   77,  140,   55,  145,   98,   83,   74,   28,   66,  480,\n",
       "         72,   59,  169,   58,   43,   68,  155,  116,   24,   82,   22,\n",
       "         79,   81,  130,  135,   52,   49,  105,   88,   56,   48,   38,\n",
       "        120,  112,  350,  190,   97,   84,   39,   34,  300,   23,   99,\n",
       "         33,   78,  165,   37,  250,  197,   16,  125,  149,  210,  108,\n",
       "         73,  205,   42,  104,   27,   61,  220,   87,  129,   12,   96,\n",
       "         62,  107,   31,   64,  221,  132,   94,  185,  198,   44,   18,\n",
       "         46,  101,  148,   76,  230,   15,  510,  118,   53,   91,   51,\n",
       "       1000,   36,  153,   41,  270,  160,   13,  400,  121,  315,   71,\n",
       "        139,   47,  204,  481,  199,  375,  137,  175,  109,  542,  106,\n",
       "        260,  170,  159,  225,   92,  103,   86,   14,  290,   93,  280,\n",
       "        143,  240,  111,  131,  180,  181,  151,  590,  201,  258,  500,\n",
       "        232, 1890,  138,  177,  128,  284,  310,  122,  183,  186,  195,\n",
       "        126,  133,  325,  203,  168,  390,  173,  461,  114,  450,  875,\n",
       "        124,   10,  305,  276,  136,  189,  261,  141,  123,  440,  127,\n",
       "        119,  224,  235,  387,  328,  600,  179,  259,  550,  360,    9,\n",
       "        320,  749,  249,  416,  178,  495,  246,  223,  750, 1200,  395,\n",
       "        206,  454,  207,   11,  164,  340,  380,  850,  117,  534, 8465,\n",
       "        285,  800,  322,  215,  297,  144,  522,  671,  236,  420,  385,\n",
       "        571,  378,  272,  319,  361,  202,  157,  154,  650,  158,  761,\n",
       "        147,  243,    8,  176,  156,  244,  695,  142,  330, 1788,  337,\n",
       "        475,  254,  257,  226,  368,  410,  900,  735,  251,  489,  275,\n",
       "       1500, 8930,  245,  167,  382,  219,  172,  113, 7777,  700,  336,\n",
       "        509,  196,  184,  269, 5000,  166,  289,  295,  680,  161,  332,\n",
       "        242,  268,  746,  498,  282,  318,  425,  146,  421,  293,  362,\n",
       "        335,  211,  262,  313,  278,  321,  999,  218,  399,  307,  248,\n",
       "        265,  882,  216,  288,  490,  188, 1100,  347, 2500,  163,  171,\n",
       "        895,  222,  264,  459, 8616, 8637, 8635,  520,  398, 8601,  152,\n",
       "        174,  271,  214,  279,  429,  465,  978, 9999, 1800,  909,  466,\n",
       "        369, 3000,  664,  580, 1262,  376, 2000,  229,  252,  345,  502,\n",
       "        182,  134,  299,  499,  413, 1999,  780,  790, 1146,  256,  792,\n",
       "        745, 1150, 1505,  430,  309,  760, 1694,  972,  635, 2200,  294,\n",
       "        312,  782,  457,  599,  990, 1700,  501,  825, 2150,  950, 1250,\n",
       "       1900, 1450, 2600,  255,  575, 4500, 2100, 1400,  720,  452, 1080,\n",
       "        729,  685,  925, 2800, 1799,  965,  975,  847, 1050, 1980, 1300,\n",
       "        540,  478,  535,  675,  960,  814, 2300,  903,  995,  795, 1170,\n",
       "        414,  497, 2400,  769, 4000, 1350,  560,  365, 1160,  620,  625,\n",
       "        690,  453,  980,  253, 2700,  530,  930,  678,  519,  349, 1075,\n",
       "        799, 1600,  905,  397,  370, 3500, 1499, 1820,  567,  770,  187,\n",
       "       2550,  227, 6000,  920,  820, 2950, 3990, 1111,  460,  601,  292,\n",
       "        302,  665,  317,  363,  467,  899,  662,  725])"
      ]
     },
     "execution_count": 8,
     "metadata": {},
     "output_type": "execute_result"
    }
   ],
   "source": [
    "stay.price.unique()"
   ]
  },
  {
   "cell_type": "code",
   "execution_count": 9,
   "id": "496a5a66",
   "metadata": {},
   "outputs": [
    {
     "data": {
      "text/html": [
       "<div>\n",
       "<style scoped>\n",
       "    .dataframe tbody tr th:only-of-type {\n",
       "        vertical-align: middle;\n",
       "    }\n",
       "\n",
       "    .dataframe tbody tr th {\n",
       "        vertical-align: top;\n",
       "    }\n",
       "\n",
       "    .dataframe thead th {\n",
       "        text-align: right;\n",
       "    }\n",
       "</style>\n",
       "<table border=\"1\" class=\"dataframe\">\n",
       "  <thead>\n",
       "    <tr style=\"text-align: right;\">\n",
       "      <th></th>\n",
       "      <th>id</th>\n",
       "      <th>host_id</th>\n",
       "      <th>host_name</th>\n",
       "      <th>room_type</th>\n",
       "      <th>disctricts</th>\n",
       "      <th>neighbourhoods</th>\n",
       "      <th>price</th>\n",
       "      <th>number_of_reviews</th>\n",
       "      <th>latitude</th>\n",
       "      <th>longitude</th>\n",
       "      <th>price_ranges</th>\n",
       "    </tr>\n",
       "  </thead>\n",
       "  <tbody>\n",
       "    <tr>\n",
       "      <th>0</th>\n",
       "      <td>6369</td>\n",
       "      <td>13660</td>\n",
       "      <td>Simon</td>\n",
       "      <td>Private room</td>\n",
       "      <td>Chamartín</td>\n",
       "      <td>Hispanoamérica</td>\n",
       "      <td>70</td>\n",
       "      <td>65</td>\n",
       "      <td>40.45628</td>\n",
       "      <td>-3.67763</td>\n",
       "      <td>(50, 100]</td>\n",
       "    </tr>\n",
       "    <tr>\n",
       "      <th>1</th>\n",
       "      <td>21853</td>\n",
       "      <td>83531</td>\n",
       "      <td>Abdel</td>\n",
       "      <td>Private room</td>\n",
       "      <td>Latina</td>\n",
       "      <td>Cármenes</td>\n",
       "      <td>17</td>\n",
       "      <td>33</td>\n",
       "      <td>40.40341</td>\n",
       "      <td>-3.74084</td>\n",
       "      <td>(0, 50]</td>\n",
       "    </tr>\n",
       "    <tr>\n",
       "      <th>2</th>\n",
       "      <td>24805</td>\n",
       "      <td>101471</td>\n",
       "      <td>Iraido</td>\n",
       "      <td>Entire home/apt</td>\n",
       "      <td>Centro</td>\n",
       "      <td>Universidad</td>\n",
       "      <td>80</td>\n",
       "      <td>2</td>\n",
       "      <td>40.42202</td>\n",
       "      <td>-3.70395</td>\n",
       "      <td>(50, 100]</td>\n",
       "    </tr>\n",
       "    <tr>\n",
       "      <th>3</th>\n",
       "      <td>24836</td>\n",
       "      <td>101653</td>\n",
       "      <td>Tenty</td>\n",
       "      <td>Entire home/apt</td>\n",
       "      <td>Centro</td>\n",
       "      <td>Justicia</td>\n",
       "      <td>115</td>\n",
       "      <td>64</td>\n",
       "      <td>40.41995</td>\n",
       "      <td>-3.69764</td>\n",
       "      <td>(100, 150]</td>\n",
       "    </tr>\n",
       "    <tr>\n",
       "      <th>4</th>\n",
       "      <td>26825</td>\n",
       "      <td>114340</td>\n",
       "      <td>Agustina</td>\n",
       "      <td>Private room</td>\n",
       "      <td>Arganzuela</td>\n",
       "      <td>Legazpi</td>\n",
       "      <td>25</td>\n",
       "      <td>136</td>\n",
       "      <td>40.38985</td>\n",
       "      <td>-3.69011</td>\n",
       "      <td>(0, 50]</td>\n",
       "    </tr>\n",
       "    <tr>\n",
       "      <th>...</th>\n",
       "      <td>...</td>\n",
       "      <td>...</td>\n",
       "      <td>...</td>\n",
       "      <td>...</td>\n",
       "      <td>...</td>\n",
       "      <td>...</td>\n",
       "      <td>...</td>\n",
       "      <td>...</td>\n",
       "      <td>...</td>\n",
       "      <td>...</td>\n",
       "      <td>...</td>\n",
       "    </tr>\n",
       "    <tr>\n",
       "      <th>20832</th>\n",
       "      <td>38725567</td>\n",
       "      <td>226958922</td>\n",
       "      <td>CristÃ³bal</td>\n",
       "      <td>Entire home/apt</td>\n",
       "      <td>Chamartín</td>\n",
       "      <td>Castilla</td>\n",
       "      <td>100</td>\n",
       "      <td>0</td>\n",
       "      <td>40.47847</td>\n",
       "      <td>-3.68395</td>\n",
       "      <td>(50, 100]</td>\n",
       "    </tr>\n",
       "    <tr>\n",
       "      <th>20833</th>\n",
       "      <td>38726351</td>\n",
       "      <td>178608863</td>\n",
       "      <td>Rostyslav</td>\n",
       "      <td>Private room</td>\n",
       "      <td>Puente de Vallecas</td>\n",
       "      <td>Palomeras Sureste</td>\n",
       "      <td>24</td>\n",
       "      <td>0</td>\n",
       "      <td>40.38533</td>\n",
       "      <td>-3.63968</td>\n",
       "      <td>(0, 50]</td>\n",
       "    </tr>\n",
       "    <tr>\n",
       "      <th>20834</th>\n",
       "      <td>38727654</td>\n",
       "      <td>182062359</td>\n",
       "      <td>Jose Maciel</td>\n",
       "      <td>Entire home/apt</td>\n",
       "      <td>Centro</td>\n",
       "      <td>Universidad</td>\n",
       "      <td>75</td>\n",
       "      <td>0</td>\n",
       "      <td>40.42182</td>\n",
       "      <td>-3.70336</td>\n",
       "      <td>(50, 100]</td>\n",
       "    </tr>\n",
       "    <tr>\n",
       "      <th>20835</th>\n",
       "      <td>38728727</td>\n",
       "      <td>31425029</td>\n",
       "      <td>Valeska</td>\n",
       "      <td>Entire home/apt</td>\n",
       "      <td>Centro</td>\n",
       "      <td>Embajadores</td>\n",
       "      <td>45</td>\n",
       "      <td>0</td>\n",
       "      <td>40.40896</td>\n",
       "      <td>-3.70107</td>\n",
       "      <td>(0, 50]</td>\n",
       "    </tr>\n",
       "    <tr>\n",
       "      <th>20836</th>\n",
       "      <td>38730025</td>\n",
       "      <td>6903368</td>\n",
       "      <td>Miguel</td>\n",
       "      <td>Private room</td>\n",
       "      <td>Centro</td>\n",
       "      <td>Justicia</td>\n",
       "      <td>75</td>\n",
       "      <td>0</td>\n",
       "      <td>40.41973</td>\n",
       "      <td>-3.69666</td>\n",
       "      <td>(50, 100]</td>\n",
       "    </tr>\n",
       "  </tbody>\n",
       "</table>\n",
       "<p>20837 rows × 11 columns</p>\n",
       "</div>"
      ],
      "text/plain": [
       "             id    host_id    host_name        room_type          disctricts  \\\n",
       "0          6369      13660        Simon     Private room           Chamartín   \n",
       "1         21853      83531        Abdel     Private room              Latina   \n",
       "2         24805     101471       Iraido  Entire home/apt              Centro   \n",
       "3         24836     101653        Tenty  Entire home/apt              Centro   \n",
       "4         26825     114340     Agustina     Private room          Arganzuela   \n",
       "...         ...        ...          ...              ...                 ...   \n",
       "20832  38725567  226958922   CristÃ³bal  Entire home/apt           Chamartín   \n",
       "20833  38726351  178608863    Rostyslav     Private room  Puente de Vallecas   \n",
       "20834  38727654  182062359  Jose Maciel  Entire home/apt              Centro   \n",
       "20835  38728727   31425029      Valeska  Entire home/apt              Centro   \n",
       "20836  38730025    6903368       Miguel     Private room              Centro   \n",
       "\n",
       "          neighbourhoods  price  number_of_reviews  latitude  longitude  \\\n",
       "0         Hispanoamérica     70                 65  40.45628   -3.67763   \n",
       "1               Cármenes     17                 33  40.40341   -3.74084   \n",
       "2            Universidad     80                  2  40.42202   -3.70395   \n",
       "3               Justicia    115                 64  40.41995   -3.69764   \n",
       "4                Legazpi     25                136  40.38985   -3.69011   \n",
       "...                  ...    ...                ...       ...        ...   \n",
       "20832           Castilla    100                  0  40.47847   -3.68395   \n",
       "20833  Palomeras Sureste     24                  0  40.38533   -3.63968   \n",
       "20834        Universidad     75                  0  40.42182   -3.70336   \n",
       "20835        Embajadores     45                  0  40.40896   -3.70107   \n",
       "20836           Justicia     75                  0  40.41973   -3.69666   \n",
       "\n",
       "      price_ranges  \n",
       "0        (50, 100]  \n",
       "1          (0, 50]  \n",
       "2        (50, 100]  \n",
       "3       (100, 150]  \n",
       "4          (0, 50]  \n",
       "...            ...  \n",
       "20832    (50, 100]  \n",
       "20833      (0, 50]  \n",
       "20834    (50, 100]  \n",
       "20835      (0, 50]  \n",
       "20836    (50, 100]  \n",
       "\n",
       "[20837 rows x 11 columns]"
      ]
     },
     "execution_count": 9,
     "metadata": {},
     "output_type": "execute_result"
    }
   ],
   "source": [
    "stay['price_ranges'] = pd.cut(stay.price, bins=[0, 50, 100, 150, 200, 300, 500, 10000])\n",
    "stay"
   ]
  },
  {
   "cell_type": "code",
   "execution_count": 11,
   "id": "9a8e9c4a",
   "metadata": {},
   "outputs": [
    {
     "data": {
      "image/png": "[encoded data removed]",
      "text/plain": [
       "<Figure size 432x288 with 1 Axes>"
      ]
     },
     "metadata": {
      "needs_background": "light"
     },
     "output_type": "display_data"
    }
   ],
   "source": [
    "priceranges = sns.countplot(y=stay.price_ranges, palette=\"viridis\")\n",
    "priceranges.figure.savefig('imgs/precios.png')"
   ]
  },
  {
   "cell_type": "code",
   "execution_count": 17,
   "id": "4fea17fc",
   "metadata": {},
   "outputs": [
    {
     "data": {
      "text/html": [
       "<div>\n",
       "<style scoped>\n",
       "    .dataframe tbody tr th:only-of-type {\n",
       "        vertical-align: middle;\n",
       "    }\n",
       "\n",
       "    .dataframe tbody tr th {\n",
       "        vertical-align: top;\n",
       "    }\n",
       "\n",
       "    .dataframe thead th {\n",
       "        text-align: right;\n",
       "    }\n",
       "</style>\n",
       "<table border=\"1\" class=\"dataframe\">\n",
       "  <thead>\n",
       "    <tr style=\"text-align: right;\">\n",
       "      <th></th>\n",
       "      <th>id</th>\n",
       "      <th>host_id</th>\n",
       "      <th>price</th>\n",
       "      <th>number_of_reviews</th>\n",
       "      <th>latitude</th>\n",
       "      <th>longitude</th>\n",
       "    </tr>\n",
       "  </thead>\n",
       "  <tbody>\n",
       "    <tr>\n",
       "      <th>count</th>\n",
       "      <td>2.083700e+04</td>\n",
       "      <td>2.083700e+04</td>\n",
       "      <td>20837.000000</td>\n",
       "      <td>20837.000000</td>\n",
       "      <td>20837.000000</td>\n",
       "      <td>20837.000000</td>\n",
       "    </tr>\n",
       "    <tr>\n",
       "      <th>mean</th>\n",
       "      <td>2.356026e+07</td>\n",
       "      <td>1.014144e+08</td>\n",
       "      <td>134.065364</td>\n",
       "      <td>35.163891</td>\n",
       "      <td>40.420548</td>\n",
       "      <td>-3.694500</td>\n",
       "    </tr>\n",
       "    <tr>\n",
       "      <th>std</th>\n",
       "      <td>1.083667e+07</td>\n",
       "      <td>8.956078e+07</td>\n",
       "      <td>381.207575</td>\n",
       "      <td>61.863053</td>\n",
       "      <td>0.021881</td>\n",
       "      <td>0.027793</td>\n",
       "    </tr>\n",
       "    <tr>\n",
       "      <th>min</th>\n",
       "      <td>6.369000e+03</td>\n",
       "      <td>5.154000e+03</td>\n",
       "      <td>8.000000</td>\n",
       "      <td>0.000000</td>\n",
       "      <td>40.319480</td>\n",
       "      <td>-3.890940</td>\n",
       "    </tr>\n",
       "    <tr>\n",
       "      <th>25%</th>\n",
       "      <td>1.608985e+07</td>\n",
       "      <td>2.232182e+07</td>\n",
       "      <td>40.000000</td>\n",
       "      <td>1.000000</td>\n",
       "      <td>40.409550</td>\n",
       "      <td>-3.707490</td>\n",
       "    </tr>\n",
       "    <tr>\n",
       "      <th>50%</th>\n",
       "      <td>2.459474e+07</td>\n",
       "      <td>7.574288e+07</td>\n",
       "      <td>65.000000</td>\n",
       "      <td>8.000000</td>\n",
       "      <td>40.418900</td>\n",
       "      <td>-3.701180</td>\n",
       "    </tr>\n",
       "    <tr>\n",
       "      <th>75%</th>\n",
       "      <td>3.401318e+07</td>\n",
       "      <td>1.719263e+08</td>\n",
       "      <td>100.000000</td>\n",
       "      <td>42.000000</td>\n",
       "      <td>40.429020</td>\n",
       "      <td>-3.689110</td>\n",
       "    </tr>\n",
       "    <tr>\n",
       "      <th>max</th>\n",
       "      <td>3.873002e+07</td>\n",
       "      <td>2.960847e+08</td>\n",
       "      <td>9999.000000</td>\n",
       "      <td>594.000000</td>\n",
       "      <td>40.573990</td>\n",
       "      <td>-3.527660</td>\n",
       "    </tr>\n",
       "  </tbody>\n",
       "</table>\n",
       "</div>"
      ],
      "text/plain": [
       "                 id       host_id         price  number_of_reviews  \\\n",
       "count  2.083700e+04  2.083700e+04  20837.000000       20837.000000   \n",
       "mean   2.356026e+07  1.014144e+08    134.065364          35.163891   \n",
       "std    1.083667e+07  8.956078e+07    381.207575          61.863053   \n",
       "min    6.369000e+03  5.154000e+03      8.000000           0.000000   \n",
       "25%    1.608985e+07  2.232182e+07     40.000000           1.000000   \n",
       "50%    2.459474e+07  7.574288e+07     65.000000           8.000000   \n",
       "75%    3.401318e+07  1.719263e+08    100.000000          42.000000   \n",
       "max    3.873002e+07  2.960847e+08   9999.000000         594.000000   \n",
       "\n",
       "           latitude     longitude  \n",
       "count  20837.000000  20837.000000  \n",
       "mean      40.420548     -3.694500  \n",
       "std        0.021881      0.027793  \n",
       "min       40.319480     -3.890940  \n",
       "25%       40.409550     -3.707490  \n",
       "50%       40.418900     -3.701180  \n",
       "75%       40.429020     -3.689110  \n",
       "max       40.573990     -3.527660  "
      ]
     },
     "execution_count": 17,
     "metadata": {},
     "output_type": "execute_result"
    }
   ],
   "source": [
    "stay.describe()"
   ]
  },
  {
   "cell_type": "code",
   "execution_count": 20,
   "id": "05179e1a",
   "metadata": {},
   "outputs": [
    {
     "data": {
      "text/plain": [
       "134"
      ]
     },
     "execution_count": 20,
     "metadata": {},
     "output_type": "execute_result"
    }
   ],
   "source": [
    "avg = round(stay['price'].mean())\n",
    "avg"
   ]
  },
  {
   "cell_type": "code",
   "execution_count": 21,
   "id": "2a1409a9",
   "metadata": {},
   "outputs": [
    {
     "data": {
      "text/plain": [
       "65"
      ]
     },
     "execution_count": 21,
     "metadata": {},
     "output_type": "execute_result"
    }
   ],
   "source": [
    "median = round(stay['price'].median())\n",
    "median"
   ]
  },
  {
   "cell_type": "code",
   "execution_count": 23,
   "id": "23452b20",
   "metadata": {},
   "outputs": [
    {
     "data": {
      "text/plain": [
       "<AxesSubplot:xlabel='price'>"
      ]
     },
     "execution_count": 23,
     "metadata": {},
     "output_type": "execute_result"
    },
    {
     "data": {
      "image/png": "[encoded data removed]",
      "text/plain": [
       "<Figure size 432x288 with 1 Axes>"
      ]
     },
     "metadata": {
      "needs_background": "light"
     },
     "output_type": "display_data"
    }
   ],
   "source": [
    "avgg = sns.boxplot(x=stay[\"price\"].nlargest(100), data=stay, palette =\"Greens\")\n",
    "avgg"
   ]
  },
  {
   "cell_type": "code",
   "execution_count": 25,
   "id": "036392d6",
   "metadata": {},
   "outputs": [
    {
     "data": {
      "text/plain": [
       "count     100.0\n",
       "mean     4230.0\n",
       "std      2529.0\n",
       "min      1999.0\n",
       "25%      2200.0\n",
       "50%      3000.0\n",
       "75%      5000.0\n",
       "max      9999.0\n",
       "Name: price, dtype: float64"
      ]
     },
     "execution_count": 25,
     "metadata": {},
     "output_type": "execute_result"
    }
   ],
   "source": [
    "round(stay[\"price\"].nlargest(100).describe())"
   ]
  },
  {
   "cell_type": "code",
   "execution_count": 26,
   "id": "60e9fc63",
   "metadata": {},
   "outputs": [
    {
     "data": {
      "text/plain": [
       "<AxesSubplot:xlabel='price'>"
      ]
     },
     "execution_count": 26,
     "metadata": {},
     "output_type": "execute_result"
    },
    {
     "data": {
      "image/png": "[encoded data removed]",
      "text/plain": [
       "<Figure size 432x288 with 1 Axes>"
      ]
     },
     "metadata": {
      "needs_background": "light"
     },
     "output_type": "display_data"
    }
   ],
   "source": [
    "avgh = sns.boxplot(x=stay[\"price\"].nsmallest(1000), data=stay, palette =\"Greens\")\n",
    "avgh"
   ]
  },
  {
   "cell_type": "code",
   "execution_count": 28,
   "id": "f0130dfb",
   "metadata": {},
   "outputs": [
    {
     "data": {
      "text/plain": [
       "count    1000.0\n",
       "mean       16.0\n",
       "std         3.0\n",
       "min         8.0\n",
       "25%        15.0\n",
       "50%        17.0\n",
       "75%        18.0\n",
       "max        20.0\n",
       "Name: price, dtype: float64"
      ]
     },
     "execution_count": 28,
     "metadata": {},
     "output_type": "execute_result"
    }
   ],
   "source": [
    "round(stay[\"price\"].nsmallest(1000).describe())"
   ]
  },
  {
   "cell_type": "code",
   "execution_count": 29,
   "id": "ebea4e87",
   "metadata": {},
   "outputs": [
    {
     "data": {
      "text/plain": [
       "9999"
      ]
     },
     "execution_count": 29,
     "metadata": {},
     "output_type": "execute_result"
    }
   ],
   "source": [
    "most_exp = round(stay['price'].max())\n",
    "most_exp"
   ]
  },
  {
   "cell_type": "code",
   "execution_count": 31,
   "id": "1dea054b",
   "metadata": {},
   "outputs": [
    {
     "data": {
      "text/html": [
       "<div>\n",
       "<style scoped>\n",
       "    .dataframe tbody tr th:only-of-type {\n",
       "        vertical-align: middle;\n",
       "    }\n",
       "\n",
       "    .dataframe tbody tr th {\n",
       "        vertical-align: top;\n",
       "    }\n",
       "\n",
       "    .dataframe thead th {\n",
       "        text-align: right;\n",
       "    }\n",
       "</style>\n",
       "<table border=\"1\" class=\"dataframe\">\n",
       "  <thead>\n",
       "    <tr style=\"text-align: right;\">\n",
       "      <th></th>\n",
       "      <th>id</th>\n",
       "      <th>host_id</th>\n",
       "      <th>host_name</th>\n",
       "      <th>room_type</th>\n",
       "      <th>disctricts</th>\n",
       "      <th>neighbourhoods</th>\n",
       "      <th>price</th>\n",
       "      <th>number_of_reviews</th>\n",
       "      <th>latitude</th>\n",
       "      <th>longitude</th>\n",
       "      <th>price_ranges</th>\n",
       "    </tr>\n",
       "  </thead>\n",
       "  <tbody>\n",
       "    <tr>\n",
       "      <th>11799</th>\n",
       "      <td>27417973</td>\n",
       "      <td>189959417</td>\n",
       "      <td>Adrian</td>\n",
       "      <td>Private room</td>\n",
       "      <td>Centro</td>\n",
       "      <td>Justicia</td>\n",
       "      <td>9999</td>\n",
       "      <td>1</td>\n",
       "      <td>40.42661</td>\n",
       "      <td>-3.70051</td>\n",
       "      <td>(500, 10000]</td>\n",
       "    </tr>\n",
       "    <tr>\n",
       "      <th>11801</th>\n",
       "      <td>27418553</td>\n",
       "      <td>189959417</td>\n",
       "      <td>Adrian</td>\n",
       "      <td>Private room</td>\n",
       "      <td>Centro</td>\n",
       "      <td>Justicia</td>\n",
       "      <td>9999</td>\n",
       "      <td>0</td>\n",
       "      <td>40.42521</td>\n",
       "      <td>-3.70041</td>\n",
       "      <td>(500, 10000]</td>\n",
       "    </tr>\n",
       "    <tr>\n",
       "      <th>11804</th>\n",
       "      <td>27418907</td>\n",
       "      <td>189959417</td>\n",
       "      <td>Adrian</td>\n",
       "      <td>Private room</td>\n",
       "      <td>Centro</td>\n",
       "      <td>Justicia</td>\n",
       "      <td>9999</td>\n",
       "      <td>1</td>\n",
       "      <td>40.42449</td>\n",
       "      <td>-3.69903</td>\n",
       "      <td>(500, 10000]</td>\n",
       "    </tr>\n",
       "    <tr>\n",
       "      <th>16853</th>\n",
       "      <td>34851930</td>\n",
       "      <td>106745942</td>\n",
       "      <td>Alaia</td>\n",
       "      <td>Entire home/apt</td>\n",
       "      <td>Centro</td>\n",
       "      <td>Justicia</td>\n",
       "      <td>9999</td>\n",
       "      <td>2</td>\n",
       "      <td>40.42555</td>\n",
       "      <td>-3.70020</td>\n",
       "      <td>(500, 10000]</td>\n",
       "    </tr>\n",
       "  </tbody>\n",
       "</table>\n",
       "</div>"
      ],
      "text/plain": [
       "             id    host_id host_name        room_type disctricts  \\\n",
       "11799  27417973  189959417    Adrian     Private room     Centro   \n",
       "11801  27418553  189959417    Adrian     Private room     Centro   \n",
       "11804  27418907  189959417    Adrian     Private room     Centro   \n",
       "16853  34851930  106745942     Alaia  Entire home/apt     Centro   \n",
       "\n",
       "      neighbourhoods  price  number_of_reviews  latitude  longitude  \\\n",
       "11799       Justicia   9999                  1  40.42661   -3.70051   \n",
       "11801       Justicia   9999                  0  40.42521   -3.70041   \n",
       "11804       Justicia   9999                  1  40.42449   -3.69903   \n",
       "16853       Justicia   9999                  2  40.42555   -3.70020   \n",
       "\n",
       "       price_ranges  \n",
       "11799  (500, 10000]  \n",
       "11801  (500, 10000]  \n",
       "11804  (500, 10000]  \n",
       "16853  (500, 10000]  "
      ]
     },
     "execution_count": 31,
     "metadata": {},
     "output_type": "execute_result"
    }
   ],
   "source": [
    "stay.loc[stay[\"price\"]== 9999]"
   ]
  },
  {
   "cell_type": "code",
   "execution_count": 32,
   "id": "4ecf16ac",
   "metadata": {},
   "outputs": [
    {
     "data": {
      "text/plain": [
       "8"
      ]
     },
     "execution_count": 32,
     "metadata": {},
     "output_type": "execute_result"
    }
   ],
   "source": [
    "cheap = round(stay['price'].min())\n",
    "cheap"
   ]
  },
  {
   "cell_type": "code",
   "execution_count": 33,
   "id": "db1b5798",
   "metadata": {},
   "outputs": [
    {
     "data": {
      "text/html": [
       "<div>\n",
       "<style scoped>\n",
       "    .dataframe tbody tr th:only-of-type {\n",
       "        vertical-align: middle;\n",
       "    }\n",
       "\n",
       "    .dataframe tbody tr th {\n",
       "        vertical-align: top;\n",
       "    }\n",
       "\n",
       "    .dataframe thead th {\n",
       "        text-align: right;\n",
       "    }\n",
       "</style>\n",
       "<table border=\"1\" class=\"dataframe\">\n",
       "  <thead>\n",
       "    <tr style=\"text-align: right;\">\n",
       "      <th></th>\n",
       "      <th>id</th>\n",
       "      <th>host_id</th>\n",
       "      <th>host_name</th>\n",
       "      <th>room_type</th>\n",
       "      <th>disctricts</th>\n",
       "      <th>neighbourhoods</th>\n",
       "      <th>price</th>\n",
       "      <th>number_of_reviews</th>\n",
       "      <th>latitude</th>\n",
       "      <th>longitude</th>\n",
       "      <th>price_ranges</th>\n",
       "    </tr>\n",
       "  </thead>\n",
       "  <tbody>\n",
       "    <tr>\n",
       "      <th>6344</th>\n",
       "      <td>18351752</td>\n",
       "      <td>69998776</td>\n",
       "      <td>JosÃ©</td>\n",
       "      <td>Private room</td>\n",
       "      <td>Ciudad Lineal</td>\n",
       "      <td>Pueblo Nuevo</td>\n",
       "      <td>8</td>\n",
       "      <td>2</td>\n",
       "      <td>40.42576</td>\n",
       "      <td>-3.63870</td>\n",
       "      <td>(0, 50]</td>\n",
       "    </tr>\n",
       "    <tr>\n",
       "      <th>7757</th>\n",
       "      <td>20049665</td>\n",
       "      <td>68664241</td>\n",
       "      <td>Luis Carlos</td>\n",
       "      <td>Private room</td>\n",
       "      <td>Arganzuela</td>\n",
       "      <td>Chopera</td>\n",
       "      <td>8</td>\n",
       "      <td>0</td>\n",
       "      <td>40.39622</td>\n",
       "      <td>-3.69926</td>\n",
       "      <td>(0, 50]</td>\n",
       "    </tr>\n",
       "  </tbody>\n",
       "</table>\n",
       "</div>"
      ],
      "text/plain": [
       "            id   host_id    host_name     room_type     disctricts  \\\n",
       "6344  18351752  69998776        JosÃ©  Private room  Ciudad Lineal   \n",
       "7757  20049665  68664241  Luis Carlos  Private room     Arganzuela   \n",
       "\n",
       "     neighbourhoods  price  number_of_reviews  latitude  longitude  \\\n",
       "6344   Pueblo Nuevo      8                  2  40.42576   -3.63870   \n",
       "7757        Chopera      8                  0  40.39622   -3.69926   \n",
       "\n",
       "     price_ranges  \n",
       "6344      (0, 50]  \n",
       "7757      (0, 50]  "
      ]
     },
     "execution_count": 33,
     "metadata": {},
     "output_type": "execute_result"
    }
   ],
   "source": [
    "stay.loc[stay[\"price\"]== 8]"
   ]
  },
  {
   "cell_type": "code",
   "execution_count": 34,
   "id": "88de58e2",
   "metadata": {},
   "outputs": [
    {
     "data": {
      "text/plain": [
       "Centro                   9773\n",
       "Salamanca                1375\n",
       "Chamberí                 1331\n",
       "Arganzuela               1121\n",
       "Tetuán                    838\n",
       "Carabanchel               678\n",
       "Retiro                    665\n",
       "Latina                    616\n",
       "Ciudad Lineal             613\n",
       "Puente de Vallecas        591\n",
       "Chamartín                 551\n",
       "Moncloa - Aravaca         542\n",
       "San Blas - Canillejas     524\n",
       "Usera                     361\n",
       "Hortaleza                 332\n",
       "Fuencarral - El Pardo     300\n",
       "Villaverde                166\n",
       "Barajas                   165\n",
       "Moratalaz                 127\n",
       "Villa de Vallecas         103\n",
       "Vicálvaro                  65\n",
       "Name: disctricts, dtype: int64"
      ]
     },
     "execution_count": 34,
     "metadata": {},
     "output_type": "execute_result"
    }
   ],
   "source": [
    "stay['disctricts'].value_counts()"
   ]
  },
  {
   "cell_type": "code",
   "execution_count": 36,
   "id": "5e75e68f",
   "metadata": {},
   "outputs": [
    {
     "data": {
      "image/png": "[encoded data removed]",
      "text/plain": [
       "<Figure size 360x720 with 1 Axes>"
      ]
     },
     "metadata": {},
     "output_type": "display_data"
    }
   ],
   "source": [
    "prime_dist = stay[\"disctricts\"].value_counts().nlargest(3).plot.pie(figsize = (5,10), title = \" Prime districts\")\n",
    "prime_dist.figure.savefig('imgs/top3d.png')"
   ]
  },
  {
   "cell_type": "code",
   "execution_count": 37,
   "id": "1a66a3ee",
   "metadata": {},
   "outputs": [
    {
     "data": {
      "text/plain": [
       "<AxesSubplot:>"
      ]
     },
     "execution_count": 37,
     "metadata": {},
     "output_type": "execute_result"
    },
    {
     "data": {
      "image/png": "[encoded data removed]",
      "text/plain": [
       "<Figure size 432x288 with 1 Axes>"
      ]
     },
     "metadata": {
      "needs_background": "light"
     },
     "output_type": "display_data"
    }
   ],
   "source": [
    "stay[\"disctricts\"].value_counts().nlargest(10).plot.bar()"
   ]
  }
 ],
 "metadata": {
  "kernelspec": {
   "display_name": "Python 3",
   "language": "python",
   "name": "python3"
  },
  "language_info": {
   "codemirror_mode": {
    "name": "ipython",
    "version": 3
   },
   "file_extension": ".py",
   "mimetype": "text/x-python",
   "name": "python",
   "nbconvert_exporter": "python",
   "pygments_lexer": "ipython3",
   "version": "3.8.5"
  }
 },
 "nbformat": 4,
 "nbformat_minor": 5
}
